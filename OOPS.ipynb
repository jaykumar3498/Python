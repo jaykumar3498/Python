{
  "nbformat": 4,
  "nbformat_minor": 0,
  "metadata": {
    "colab": {
      "provenance": [],
      "authorship_tag": "ABX9TyOsCRqxDVbF9trSjDIRGkXU",
      "include_colab_link": true
    },
    "kernelspec": {
      "name": "python3",
      "display_name": "Python 3"
    },
    "language_info": {
      "name": "python"
    }
  },
  "cells": [
    {
      "cell_type": "markdown",
      "metadata": {
        "id": "view-in-github",
        "colab_type": "text"
      },
      "source": [
        "<a href=\"https://colab.research.google.com/github/jaykumar3498/Python/blob/main/OOPS.ipynb\" target=\"_parent\"><img src=\"https://colab.research.google.com/assets/colab-badge.svg\" alt=\"Open In Colab\"/></a>"
      ]
    },
    {
      "cell_type": "code",
      "execution_count": 17,
      "metadata": {
        "colab": {
          "base_uri": "https://localhost:8080/",
          "height": 53
        },
        "id": "58vifweSuAwF",
        "outputId": "9e73837d-189c-4711-a358-65969425df4a"
      },
      "outputs": [
        {
          "output_type": "stream",
          "name": "stdout",
          "text": [
            "Name is John ID: 15\n"
          ]
        },
        {
          "output_type": "execute_result",
          "data": {
            "text/plain": [
              "'!0-A'"
            ],
            "application/vnd.google.colaboratory.intrinsic+json": {
              "type": "string"
            }
          },
          "metadata": {},
          "execution_count": 17
        }
      ],
      "source": [
        "\"\"\"\n",
        "    Write a Python class named Student with two attributes student_id, student_name. \n",
        "    Add a new attribute student_class and display the entire attribute and their values of the said class. \n",
        "    Now remove the student_name attribute and display the entire attribute with values.\n",
        "\"\"\"\n",
        "class Student:\n",
        "    student_class = \"10-B\"\n",
        "\n",
        "    def __init__(self,student_id,student_name):\n",
        "      self.student_id = student_id\n",
        "      self.student_name = student_name\n",
        "\n",
        "    def show(self):\n",
        "      print(\"Name is\",self.student_name,\"ID:\",self.student_id)\n",
        "\n",
        "Student.student_class = \"!0-A\"\n",
        "\n",
        "x = Student(15,\"John\")\n",
        "x.show()\n",
        "x.student_class"
      ]
    },
    {
      "cell_type": "code",
      "source": [
        "class Student:\n",
        "    student_class = \"10-B\"\n",
        "\n",
        "    def __init__(self,student_id,student_name):\n",
        "      self.student_id = student_id\n",
        "      self.student_name = student_name\n",
        "\n",
        "    def show(self):\n",
        "      print(\"Name is\",self.student_name,\"ID:\",self.student_id)\n",
        "\n",
        "x = Student(15,\"John\")\n",
        "x.show()\n",
        "x.student_class"
      ],
      "metadata": {
        "colab": {
          "base_uri": "https://localhost:8080/",
          "height": 53
        },
        "id": "waElczfzuzoe",
        "outputId": "3d61fd96-6f80-404b-eeee-5107b266d64c"
      },
      "execution_count": 18,
      "outputs": [
        {
          "output_type": "stream",
          "name": "stdout",
          "text": [
            "Name is John ID: 15\n"
          ]
        },
        {
          "output_type": "execute_result",
          "data": {
            "text/plain": [
              "'10-B'"
            ],
            "application/vnd.google.colaboratory.intrinsic+json": {
              "type": "string"
            }
          },
          "metadata": {},
          "execution_count": 18
        }
      ]
    },
    {
      "cell_type": "code",
      "source": [
        "del Student.student_class"
      ],
      "metadata": {
        "id": "Huh3yCBy_ZKP"
      },
      "execution_count": 24,
      "outputs": []
    },
    {
      "cell_type": "code",
      "source": [
        "x.student_class\n"
      ],
      "metadata": {
        "colab": {
          "base_uri": "https://localhost:8080/",
          "height": 169
        },
        "id": "7AxBPuXi_dJ4",
        "outputId": "d14b36b1-0ced-4f1a-9feb-7d8ffeef7fb7"
      },
      "execution_count": 26,
      "outputs": [
        {
          "output_type": "error",
          "ename": "AttributeError",
          "evalue": "ignored",
          "traceback": [
            "\u001b[0;31m---------------------------------------------------------------------------\u001b[0m",
            "\u001b[0;31mAttributeError\u001b[0m                            Traceback (most recent call last)",
            "\u001b[0;32m<ipython-input-26-40ad8f83c06e>\u001b[0m in \u001b[0;36m<module>\u001b[0;34m\u001b[0m\n\u001b[0;32m----> 1\u001b[0;31m \u001b[0mx\u001b[0m\u001b[0;34m.\u001b[0m\u001b[0mstudent_class\u001b[0m\u001b[0;34m\u001b[0m\u001b[0;34m\u001b[0m\u001b[0m\n\u001b[0m",
            "\u001b[0;31mAttributeError\u001b[0m: 'Math' object has no attribute 'student_class'"
          ]
        }
      ]
    },
    {
      "cell_type": "code",
      "source": [
        "class Student:\n",
        "    student_class = \"10-B\"\n",
        "\n",
        "    def __init__(self,student_id,student_name):\n",
        "      self.student_id = student_id\n",
        "      self.student_name = student_name\n",
        "\n",
        "    def show(self):\n",
        "      print(\"Name is\",self.student_name,\"ID:\",self.student_id)\n",
        "\n",
        "Student.student_class = \"10-A\"\n",
        "\n",
        "x = Student(15,\"John\")\n",
        "x.show()\n",
        "print(x.student_class)\n",
        "del Student.student_class\n",
        "print(x.student_class)"
      ],
      "metadata": {
        "colab": {
          "base_uri": "https://localhost:8080/",
          "height": 240
        },
        "id": "aJLeph7wACiB",
        "outputId": "e0581233-de29-4050-f138-790115382c1c"
      },
      "execution_count": 30,
      "outputs": [
        {
          "output_type": "stream",
          "name": "stdout",
          "text": [
            "Name is John ID: 15\n",
            "10-A\n"
          ]
        },
        {
          "output_type": "error",
          "ename": "AttributeError",
          "evalue": "ignored",
          "traceback": [
            "\u001b[0;31m---------------------------------------------------------------------------\u001b[0m",
            "\u001b[0;31mAttributeError\u001b[0m                            Traceback (most recent call last)",
            "\u001b[0;32m<ipython-input-30-0c7bdc5df6fa>\u001b[0m in \u001b[0;36m<module>\u001b[0;34m\u001b[0m\n\u001b[1;32m     15\u001b[0m \u001b[0mprint\u001b[0m\u001b[0;34m(\u001b[0m\u001b[0mx\u001b[0m\u001b[0;34m.\u001b[0m\u001b[0mstudent_class\u001b[0m\u001b[0;34m)\u001b[0m\u001b[0;34m\u001b[0m\u001b[0;34m\u001b[0m\u001b[0m\n\u001b[1;32m     16\u001b[0m \u001b[0;32mdel\u001b[0m \u001b[0mStudent\u001b[0m\u001b[0;34m.\u001b[0m\u001b[0mstudent_class\u001b[0m\u001b[0;34m\u001b[0m\u001b[0;34m\u001b[0m\u001b[0m\n\u001b[0;32m---> 17\u001b[0;31m \u001b[0mprint\u001b[0m\u001b[0;34m(\u001b[0m\u001b[0mx\u001b[0m\u001b[0;34m.\u001b[0m\u001b[0mstudent_class\u001b[0m\u001b[0;34m)\u001b[0m\u001b[0;34m\u001b[0m\u001b[0;34m\u001b[0m\u001b[0m\n\u001b[0m",
            "\u001b[0;31mAttributeError\u001b[0m: 'Student' object has no attribute 'student_class'"
          ]
        }
      ]
    },
    {
      "cell_type": "code",
      "source": [
        "x = Student(15,\"John\")\n",
        "x.show()"
      ],
      "metadata": {
        "colab": {
          "base_uri": "https://localhost:8080/"
        },
        "id": "A7trPUmJ_5ul",
        "outputId": "1b843639-eb35-483d-9e53-62dc11efdc44"
      },
      "execution_count": 28,
      "outputs": [
        {
          "output_type": "stream",
          "name": "stdout",
          "text": [
            "Name is John ID: 15\n"
          ]
        }
      ]
    },
    {
      "cell_type": "code",
      "source": [
        "class Math:\n",
        "    def __init__(self,x,y):\n",
        "      self.x = x\n",
        "      self.y = y\n",
        "\n",
        "    def pow(self):\n",
        "      return self.x**self.y\n",
        "\n",
        "x = Math(100,1)\n",
        "x.pow()"
      ],
      "metadata": {
        "colab": {
          "base_uri": "https://localhost:8080/"
        },
        "id": "YXjyh_jo6lyu",
        "outputId": "774281e2-dbb3-40e2-bce8-485f6c30c546"
      },
      "execution_count": 7,
      "outputs": [
        {
          "output_type": "execute_result",
          "data": {
            "text/plain": [
              "100"
            ]
          },
          "metadata": {},
          "execution_count": 7
        }
      ]
    },
    {
      "cell_type": "code",
      "source": [
        "class String:\n",
        "    def __init__(self,x):\n",
        "      self.x = x\n",
        "\n",
        "    def rev(self):\n",
        "      y=[]\n",
        "      lis = self.x.split(' ')\n",
        "      for i in lis[-1::-1]:\n",
        "        y.append(i)\n",
        "      return ' '.join(y)\n",
        "\n",
        "x = String('Hey')\n",
        "x.rev()"
      ],
      "metadata": {
        "colab": {
          "base_uri": "https://localhost:8080/",
          "height": 35
        },
        "id": "R3VnQsdWuriK",
        "outputId": "44d38d24-1eab-44a4-93ba-3d16eb4b1ecc"
      },
      "execution_count": 20,
      "outputs": [
        {
          "output_type": "execute_result",
          "data": {
            "text/plain": [
              "'Hey'"
            ],
            "application/vnd.google.colaboratory.intrinsic+json": {
              "type": "string"
            }
          },
          "metadata": {},
          "execution_count": 20
        }
      ]
    },
    {
      "cell_type": "code",
      "source": [
        "\"\"\"\n",
        "Write a Python class named Circle constructed by a radius and two methods which will\n",
        "compute the area and the perimeter of a circle\n",
        "\"\"\"\n",
        "\n",
        "class Circle:\n",
        "  \n",
        "    def __init__(self,radius):\n",
        "      self.radius = radius\n",
        "\n",
        "    def area(self):\n",
        "      return 3.14*self.radius**2\n",
        "\n",
        "    def perimeter(self):\n",
        "      return 3.14*self.radius*2\n",
        "\n",
        "\n",
        "x = Circle(5)\n",
        "x.area()"
      ],
      "metadata": {
        "colab": {
          "base_uri": "https://localhost:8080/"
        },
        "id": "6srspQYr3Re-",
        "outputId": "3340d47d-7a1c-47b4-a8c6-12b4957f63c5"
      },
      "execution_count": 28,
      "outputs": [
        {
          "output_type": "execute_result",
          "data": {
            "text/plain": [
              "78.5"
            ]
          },
          "metadata": {},
          "execution_count": 28
        }
      ]
    },
    {
      "cell_type": "code",
      "source": [
        "class Roman:\n",
        "  \n",
        "    def __init__(self,integer):\n",
        "      self.integer = integer\n",
        "\n",
        "    def convert(self):\n",
        "      bin_1 = ['I','II','III','IV','V','VI','VII','VIII','IX','X']\n",
        "      bin_2 = ['X','XX','XXX','XL','L','LX','LXX','LXXX','XC','C']\n",
        "      lis=[]\n",
        "      if self.integer==0:\n",
        "        print(\"Please enter a value above 0\")\n",
        "      elif self.integer<=10:\n",
        "        return bin_1[self.integer-1]\n",
        "      elif self.integer%10!=0:\n",
        "          for i in range(len(str(self.integer))):\n",
        "            if i==0:\n",
        "              lis.append(bin_2[int(str(self.integer)[0])-1])\n",
        "            else:\n",
        "              lis.append(bin_1[int(str(self.integer)[1])-1])\n",
        "          return ''.join(lis)\n",
        "      else:\n",
        "          return bin_2[int(str(self.integer)[0])-1]\n",
        "\n",
        "    def hund_convert(self):\n",
        "      st = str(self.integer)[0]\n",
        "      return int(st)*'C'\n",
        "\n",
        "x = int(input(\"Please enter a number \"))\n",
        "r = Roman(x)\n",
        "if x<100:\n",
        "  print(r.convert())\n",
        "elif x>=100 and x<500:\n",
        "  print(r.hund_convert())\n",
        "else:\n",
        "  print(\"Out of range\")"
      ],
      "metadata": {
        "colab": {
          "base_uri": "https://localhost:8080/"
        },
        "id": "vVMEM9_mFlVo",
        "outputId": "d254a52d-d8da-49cd-a85b-b6f53efa86ad"
      },
      "execution_count": 93,
      "outputs": [
        {
          "output_type": "stream",
          "name": "stdout",
          "text": [
            "Please enter a number 100\n",
            "C\n"
          ]
        }
      ]
    }
  ]
}
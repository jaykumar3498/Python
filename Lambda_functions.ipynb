{
  "nbformat": 4,
  "nbformat_minor": 0,
  "metadata": {
    "colab": {
      "provenance": [],
      "authorship_tag": "ABX9TyOjaVpOKGqNmPlDGwwKeRpv",
      "include_colab_link": true
    },
    "kernelspec": {
      "name": "python3",
      "display_name": "Python 3"
    },
    "language_info": {
      "name": "python"
    }
  },
  "cells": [
    {
      "cell_type": "markdown",
      "metadata": {
        "id": "view-in-github",
        "colab_type": "text"
      },
      "source": [
        "<a href=\"https://colab.research.google.com/github/jaykumar3498/Python/blob/main/Lambda_functions.ipynb\" target=\"_parent\"><img src=\"https://colab.research.google.com/assets/colab-badge.svg\" alt=\"Open In Colab\"/></a>"
      ]
    },
    {
      "cell_type": "code",
      "execution_count": 1,
      "metadata": {
        "colab": {
          "base_uri": "https://localhost:8080/"
        },
        "id": "x4qyG9Ukjybh",
        "outputId": "f0b6da35-e48b-4612-e309-b6bac3c347be"
      },
      "outputs": [
        {
          "output_type": "execute_result",
          "data": {
            "text/plain": [
              "17"
            ]
          },
          "metadata": {},
          "execution_count": 1
        }
      ],
      "source": [
        "add_15= lambda x:x+15\n",
        "add_15(2)"
      ]
    },
    {
      "cell_type": "code",
      "source": [
        "mul = lambda x,y:x*y\n",
        "mul(2,3)"
      ],
      "metadata": {
        "colab": {
          "base_uri": "https://localhost:8080/"
        },
        "id": "5SasBVWblsNO",
        "outputId": "261610e2-9437-4b18-9385-67ec5c23229a"
      },
      "execution_count": 2,
      "outputs": [
        {
          "output_type": "execute_result",
          "data": {
            "text/plain": [
              "6"
            ]
          },
          "metadata": {},
          "execution_count": 2
        }
      ]
    },
    {
      "cell_type": "code",
      "source": [
        "import datetime\n",
        "x = datetime.datetime.now()\n",
        "year = lambda x: x.year\n",
        "month = lambda x: x.month\n",
        "day = lambda x: x.day\n",
        "time = lambda x:x.time()\n",
        "print(time(x),\" \",day(x),\"/\",month(x),\"/\",year(x))"
      ],
      "metadata": {
        "colab": {
          "base_uri": "https://localhost:8080/"
        },
        "id": "H8xk6F5ml3VX",
        "outputId": "efc15542-2f0f-464e-a2db-06049104dfb7"
      },
      "execution_count": 3,
      "outputs": [
        {
          "output_type": "stream",
          "name": "stdout",
          "text": [
            "07:25:43.359374   21 / 9 / 2022\n"
          ]
        }
      ]
    },
    {
      "cell_type": "code",
      "source": [
        "sample = ['Jay','Ram','shubha','raju','aman']\n",
        "filt = [len(x) for x in sample if x.islower()]\n",
        "tot = lambda x :sum(x)\n",
        "tot(filt)"
      ],
      "metadata": {
        "colab": {
          "base_uri": "https://localhost:8080/"
        },
        "id": "Y1LS1xrRoVpx",
        "outputId": "c510a3f8-f8a1-42f7-de37-71c5ad4585fc"
      },
      "execution_count": 4,
      "outputs": [
        {
          "output_type": "execute_result",
          "data": {
            "text/plain": [
              "14"
            ]
          },
          "metadata": {},
          "execution_count": 4
        }
      ]
    },
    {
      "cell_type": "code",
      "source": [
        "sample = ['Jay','Ram','shubha','raju','aman']\n",
        "new = list(map(lambda x: len(x),sample))\n",
        "new"
      ],
      "metadata": {
        "colab": {
          "base_uri": "https://localhost:8080/"
        },
        "id": "vJWRD1m5sjXm",
        "outputId": "8963a26a-d463-4f9c-aabb-a62178a77a2b"
      },
      "execution_count": 5,
      "outputs": [
        {
          "output_type": "execute_result",
          "data": {
            "text/plain": [
              "[3, 3, 6, 4, 4]"
            ]
          },
          "metadata": {},
          "execution_count": 5
        }
      ]
    },
    {
      "cell_type": "code",
      "source": [
        "sample = ['red', 'black', 'white', 'green', 'orange']\n",
        "new =  list(filter(lambda x: True if 'ack' in x else False,sample))\n",
        "new"
      ],
      "metadata": {
        "colab": {
          "base_uri": "https://localhost:8080/"
        },
        "id": "KLG4qh-P7NRQ",
        "outputId": "3f8395f9-843b-4efc-f9fd-cc6ee8031e12"
      },
      "execution_count": 6,
      "outputs": [
        {
          "output_type": "execute_result",
          "data": {
            "text/plain": [
              "['black']"
            ]
          },
          "metadata": {},
          "execution_count": 6
        }
      ]
    }
  ]
}
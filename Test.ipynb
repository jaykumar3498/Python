{
  "nbformat": 4,
  "nbformat_minor": 0,
  "metadata": {
    "colab": {
      "provenance": [],
      "authorship_tag": "ABX9TyOhh0A1EFDjkbgZ0O6FEpOp",
      "include_colab_link": true
    },
    "kernelspec": {
      "name": "python3",
      "display_name": "Python 3"
    },
    "language_info": {
      "name": "python"
    }
  },
  "cells": [
    {
      "cell_type": "markdown",
      "metadata": {
        "id": "view-in-github",
        "colab_type": "text"
      },
      "source": [
        "<a href=\"https://colab.research.google.com/github/jaykumar3498/Python/blob/main/Test.ipynb\" target=\"_parent\"><img src=\"https://colab.research.google.com/assets/colab-badge.svg\" alt=\"Open In Colab\"/></a>"
      ]
    },
    {
      "cell_type": "code",
      "execution_count": 123,
      "metadata": {
        "colab": {
          "base_uri": "https://localhost:8080/"
        },
        "id": "e_KiUMwG3oDV",
        "outputId": "5165d3ce-fa13-47b4-d149-2fd6342d11a1"
      },
      "outputs": [
        {
          "name": "stdout",
          "output_type": "stream",
          "text": [
            "Please enter a number 45\n",
            "Please enter a number 12\n",
            "Please enter a number 99\n",
            "Please enter a number 67\n",
            "Please enter a number 23\n",
            "Please enter a number 56\n",
            "Please enter a number 90\n",
            "Please enter a number 25\n",
            "Please enter a number 33\n",
            "Please enter a number 42\n",
            "Please enter a number 88\n",
            "Please enter a number 73\n",
            "Please enter a number 5\n",
            "Please enter a number 91\n",
            "Please enter a number 17\n",
            "Please enter a number 59\n",
            "Please enter a number 68\n",
            "Please enter a number 39\n",
            "Please enter a number 31\n",
            "Please enter a number 15\n"
          ]
        }
      ],
      "source": [
        "count = 20\n",
        "x=[]\n",
        "for i in range(count):\n",
        "  a = int(input(\"Please enter a number \"))\n",
        "  x.append(a)"
      ]
    },
    {
      "cell_type": "code",
      "source": [
        "len(x)"
      ],
      "metadata": {
        "colab": {
          "base_uri": "https://localhost:8080/"
        },
        "id": "aQveL9Mr4Ra3",
        "outputId": "59d92ee4-a6e6-4832-a2c1-f0d85ed4de52"
      },
      "execution_count": 124,
      "outputs": [
        {
          "output_type": "execute_result",
          "data": {
            "text/plain": [
              "20"
            ]
          },
          "metadata": {},
          "execution_count": 124
        }
      ]
    },
    {
      "cell_type": "code",
      "source": [
        "#Linear Search\n",
        "num = int(input(\"Please enter a number \"))\n",
        "check=0\n",
        "for i in range(len(x)):\n",
        "  if x[i]==num:\n",
        "    check+=1\n",
        "    break\n",
        "if check==1:\n",
        "  print(\"Number found at the\",i,\"th position\")\n",
        "else:\n",
        "  print(\"Number not found\")"
      ],
      "metadata": {
        "colab": {
          "base_uri": "https://localhost:8080/"
        },
        "id": "H9HYdoU74ldm",
        "outputId": "235d02fd-1c98-4063-fcb1-30edaf9079b4"
      },
      "execution_count": 125,
      "outputs": [
        {
          "output_type": "stream",
          "name": "stdout",
          "text": [
            "Please enter a number 91\n",
            "Number found at the 13 th position\n"
          ]
        }
      ]
    },
    {
      "cell_type": "code",
      "source": [
        "#Binary Search\n",
        "num = int(input(\"Please enter a number \"))\n",
        "low=0\n",
        "high = len(x)-1\n",
        "mid = 0\n",
        "check=0\n",
        "while low<=high:\n",
        "  mid = (low+high)//2\n",
        "  a = sorted(x)\n",
        "  if num == a[mid]:\n",
        "    check+=1\n",
        "    break;\n",
        "  elif num< a[mid]:\n",
        "      high = mid-1\n",
        "  elif num> a[mid]:\n",
        "      low = mid+1\n",
        "if check==1:\n",
        "  print(\"Number found at the\",mid,\"th position\")\n",
        "else:\n",
        "  print(\"Number could not be found\")"
      ],
      "metadata": {
        "colab": {
          "base_uri": "https://localhost:8080/"
        },
        "id": "DQ0liidS6f0M",
        "outputId": "b1bd38eb-baa3-46a7-9753-d216d7601713"
      },
      "execution_count": 135,
      "outputs": [
        {
          "output_type": "stream",
          "name": "stdout",
          "text": [
            "Please enter a number 205\n",
            "Number could not be found\n"
          ]
        }
      ]
    },
    {
      "cell_type": "code",
      "source": [
        "x"
      ],
      "metadata": {
        "colab": {
          "base_uri": "https://localhost:8080/"
        },
        "id": "mgCowOLiErmv",
        "outputId": "7cb41ef8-3abb-4a22-cf21-fca71f81e880"
      },
      "execution_count": 136,
      "outputs": [
        {
          "output_type": "execute_result",
          "data": {
            "text/plain": [
              "[45, 12, 99, 67, 23, 56, 90, 25, 33, 42, 88, 73, 5, 91, 17, 59, 68, 39, 31, 15]"
            ]
          },
          "metadata": {},
          "execution_count": 136
        }
      ]
    },
    {
      "cell_type": "code",
      "source": [
        "#Bubble Sort\n",
        "for i in range(len(x)):\n",
        "  for j in range(0,len(x)-i-1):\n",
        "    if x[j]>x[j+1]:\n",
        "      a = x[j]\n",
        "      x[j] = x[j+1]\n",
        "      x[j+1] = a\n",
        "print(x)"
      ],
      "metadata": {
        "colab": {
          "base_uri": "https://localhost:8080/"
        },
        "id": "JvQrK5FdAjAF",
        "outputId": "85e1605c-bb5b-4b9b-9fd5-311186b9a6e5"
      },
      "execution_count": 137,
      "outputs": [
        {
          "output_type": "stream",
          "name": "stdout",
          "text": [
            "[5, 12, 15, 17, 23, 25, 31, 33, 39, 42, 45, 56, 59, 67, 68, 73, 88, 90, 91, 99]\n"
          ]
        }
      ]
    },
    {
      "cell_type": "code",
      "source": [
        "\"\"\"\n",
        "Bubble sort basically checks each element and the one after it from the array and swaps them according to an ascending order and does this iteratively for every two elements in the array until it is completely sorted and no more changes can be made\n",
        "\"\"\""
      ],
      "metadata": {
        "colab": {
          "base_uri": "https://localhost:8080/",
          "height": 53
        },
        "id": "GfkRR4dhH5NU",
        "outputId": "989261a7-9772-4564-9fe5-16fbada39f0e"
      },
      "execution_count": 75,
      "outputs": [
        {
          "output_type": "execute_result",
          "data": {
            "text/plain": [
              "'\\nBubble sort basically checks each element and the one after it from the array and swaps them according to an ascending order and does this iteratively for every two elements in the array until it is completely sorted and no more changes can be made\\n'"
            ],
            "application/vnd.google.colaboratory.intrinsic+json": {
              "type": "string"
            }
          },
          "metadata": {},
          "execution_count": 75
        }
      ]
    },
    {
      "cell_type": "code",
      "source": [
        "mean = sum(x)/len(x)\n",
        "n=len(x)\n",
        "lis=[]\n",
        "\n",
        "#median\n",
        "if n%2==0:\n",
        "  median = ((x[n//2]+x[n//2+1])/2)\n",
        "else:\n",
        "  median = x[(n+1)//2]\n",
        "\n",
        "#mode\n",
        "dic = {}\n",
        "for i in x:\n",
        "  dic[i] = x.count(i)\n",
        "mode = dic.get(max(dic.values()))"
      ],
      "metadata": {
        "id": "rrIUw2BeISzN"
      },
      "execution_count": 146,
      "outputs": []
    },
    {
      "cell_type": "code",
      "source": [
        "mean"
      ],
      "metadata": {
        "colab": {
          "base_uri": "https://localhost:8080/"
        },
        "id": "srIy2v5aKA_W",
        "outputId": "527a8277-abfd-4455-8a68-a6222a024f0c"
      },
      "execution_count": 147,
      "outputs": [
        {
          "output_type": "execute_result",
          "data": {
            "text/plain": [
              "48.9"
            ]
          },
          "metadata": {},
          "execution_count": 147
        }
      ]
    },
    {
      "cell_type": "code",
      "source": [
        "median"
      ],
      "metadata": {
        "colab": {
          "base_uri": "https://localhost:8080/"
        },
        "id": "SP1CZ5vHKKo1",
        "outputId": "5be3f867-1ce8-42fb-e23e-e09044b9a7e0"
      },
      "execution_count": 148,
      "outputs": [
        {
          "output_type": "execute_result",
          "data": {
            "text/plain": [
              "50.5"
            ]
          },
          "metadata": {},
          "execution_count": 148
        }
      ]
    },
    {
      "cell_type": "code",
      "source": [
        "mode"
      ],
      "metadata": {
        "id": "hIwa55j6KMav"
      },
      "execution_count": 149,
      "outputs": []
    },
    {
      "cell_type": "code",
      "source": [
        "#Prime number check\n",
        "dic={}\n",
        "for i in x:\n",
        "  check=0\n",
        "  for j in range(2,x[-1]):\n",
        "    if i%j==0:\n",
        "      check+=1    \n",
        "  dic[i] = check\n",
        "lis=[]\n",
        "for i in dic:\n",
        "  if dic[i]==1:\n",
        "    lis.append(i)\n",
        "lis"
      ],
      "metadata": {
        "colab": {
          "base_uri": "https://localhost:8080/"
        },
        "id": "CYFkofzMMdL8",
        "outputId": "7f6e961e-f2bd-4d28-acec-37af0b06173d"
      },
      "execution_count": 151,
      "outputs": [
        {
          "output_type": "execute_result",
          "data": {
            "text/plain": [
              "[5, 17, 23, 31, 59, 67, 73]"
            ]
          },
          "metadata": {},
          "execution_count": 151
        }
      ]
    }
  ]
}
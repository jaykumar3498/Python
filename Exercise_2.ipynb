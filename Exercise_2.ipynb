{
  "nbformat": 4,
  "nbformat_minor": 0,
  "metadata": {
    "colab": {
      "provenance": [],
      "authorship_tag": "ABX9TyP/77mDOb+HpvAPrPu27gKG",
      "include_colab_link": true
    },
    "kernelspec": {
      "name": "python3",
      "display_name": "Python 3"
    },
    "language_info": {
      "name": "python"
    }
  },
  "cells": [
    {
      "cell_type": "markdown",
      "metadata": {
        "id": "view-in-github",
        "colab_type": "text"
      },
      "source": [
        "<a href=\"https://colab.research.google.com/github/jaykumar3498/Python/blob/main/Exercise_2.ipynb\" target=\"_parent\"><img src=\"https://colab.research.google.com/assets/colab-badge.svg\" alt=\"Open In Colab\"/></a>"
      ]
    },
    {
      "cell_type": "code",
      "execution_count": 14,
      "metadata": {
        "colab": {
          "base_uri": "https://localhost:8080/"
        },
        "id": "dRl9WeHSbJ5l",
        "outputId": "373f8612-b4da-440b-ac08-cd703e2ddcc9"
      },
      "outputs": [
        {
          "output_type": "stream",
          "name": "stdout",
          "text": [
            "Please enter three names: Jay,Raju,Tridha\n",
            "Jay\n",
            "Raju\n",
            "Tridha\n"
          ]
        }
      ],
      "source": [
        "#Q1\n",
        "x, y, z = input(\"Please enter three names: \").split(\",\")\n",
        "print(x)\n",
        "print(y)\n",
        "print(z)"
      ]
    },
    {
      "cell_type": "code",
      "source": [
        "#Q2\n",
        "x = int(input(\"Please enter a number \"))\n",
        "for i in range(1,x+1):\n",
        "  for j in range(1,i+1):\n",
        "    print(j,end=\" \")\n",
        "  print(\"\",sep='\\n')"
      ],
      "metadata": {
        "colab": {
          "base_uri": "https://localhost:8080/"
        },
        "id": "IaXa2I5LbZo_",
        "outputId": "7f4d269c-60b9-471c-c974-5864c9707e61"
      },
      "execution_count": 16,
      "outputs": [
        {
          "output_type": "stream",
          "name": "stdout",
          "text": [
            "Please enter a number 5\n",
            "1 \n",
            "1 2 \n",
            "1 2 3 \n",
            "1 2 3 4 \n",
            "1 2 3 4 5 \n"
          ]
        }
      ]
    },
    {
      "cell_type": "code",
      "source": [
        "#Q3\n",
        "x = int(input(\"Please enter a number \"))\n",
        "a=0\n",
        "for i in range(1,x+1):\n",
        "  a+=i\n",
        "print(a)"
      ],
      "metadata": {
        "colab": {
          "base_uri": "https://localhost:8080/"
        },
        "id": "jGnXXi86bq_q",
        "outputId": "dce413af-cbb5-4b23-ba1e-3b6ea0bc7cac"
      },
      "execution_count": 19,
      "outputs": [
        {
          "output_type": "stream",
          "name": "stdout",
          "text": [
            "Please enter a number 10\n",
            "55\n"
          ]
        }
      ]
    },
    {
      "cell_type": "code",
      "source": [
        "#Q4\n",
        "x=[1,4,5,'Hi','10',9]\n",
        "lis=[]\n",
        "for i in x[-1::-1]:\n",
        "  lis.append(i)\n",
        "print(lis)"
      ],
      "metadata": {
        "colab": {
          "base_uri": "https://localhost:8080/"
        },
        "id": "JejcDj8TdcOI",
        "outputId": "e851838a-e775-49d2-b677-f764c1e2d0b2"
      },
      "execution_count": 23,
      "outputs": [
        {
          "output_type": "stream",
          "name": "stdout",
          "text": [
            "[9, '10', 'Hi', 5, 4, 1]\n"
          ]
        }
      ]
    },
    {
      "cell_type": "code",
      "source": [
        "#Q5\n",
        "x = int(input(\"Please enter a number \"))\n",
        "dic={}\n",
        "for i in range(2,x+1):\n",
        "  check=0\n",
        "  for j in range(2,i+1):\n",
        "    if i%j==0:\n",
        "      check+=1    \n",
        "  dic[i] = check\n",
        "lis=[]\n",
        "for i in dic:\n",
        "  if dic[i]==1:\n",
        "    lis.append(i)\n",
        "lis"
      ],
      "metadata": {
        "colab": {
          "base_uri": "https://localhost:8080/"
        },
        "id": "ffFwYXN3eCvj",
        "outputId": "798e634d-c89d-4ee9-dd61-daf61533145e"
      },
      "execution_count": 27,
      "outputs": [
        {
          "name": "stdout",
          "output_type": "stream",
          "text": [
            "Please enter a number 50\n"
          ]
        },
        {
          "output_type": "execute_result",
          "data": {
            "text/plain": [
              "[2, 3, 5, 7, 11, 13, 17, 19, 23, 29, 31, 37, 41, 43, 47]"
            ]
          },
          "metadata": {},
          "execution_count": 27
        }
      ]
    },
    {
      "cell_type": "code",
      "source": [
        "#Q6\n",
        "x = int(input(\"Please enter a number \"))\n",
        "a=1\n",
        "for i in range(1,x+1):\n",
        "  a*=i\n",
        "print(a)"
      ],
      "metadata": {
        "colab": {
          "base_uri": "https://localhost:8080/"
        },
        "id": "YHwL0QJ3evqy",
        "outputId": "9d020d66-6e25-4259-82f1-4d4fd138dd9d"
      },
      "execution_count": 29,
      "outputs": [
        {
          "output_type": "stream",
          "name": "stdout",
          "text": [
            "Please enter a number 6\n",
            "720\n"
          ]
        }
      ]
    },
    {
      "cell_type": "code",
      "source": [
        "#Q7\n",
        "x=int(input(\"Enter a number \"))\n",
        "for i in range(1,x+1):\n",
        "  print(i*\"*\")\n",
        "for i in reversed(range(1,x+1)):\n",
        "  print(i*\"*\")"
      ],
      "metadata": {
        "colab": {
          "base_uri": "https://localhost:8080/"
        },
        "id": "19cOf8DXf-G6",
        "outputId": "913999f2-437f-47f3-8e4b-952c58a8a947"
      },
      "execution_count": 32,
      "outputs": [
        {
          "output_type": "stream",
          "name": "stdout",
          "text": [
            "Enter a number 5\n",
            "*\n",
            "**\n",
            "***\n",
            "****\n",
            "*****\n",
            "*****\n",
            "****\n",
            "***\n",
            "**\n",
            "*\n"
          ]
        }
      ]
    }
  ]
}
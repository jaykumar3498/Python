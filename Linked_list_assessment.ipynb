{
  "nbformat": 4,
  "nbformat_minor": 0,
  "metadata": {
    "colab": {
      "provenance": [],
      "authorship_tag": "ABX9TyMvH9YaIf9LBv5QeSxe/hE6",
      "include_colab_link": true
    },
    "kernelspec": {
      "name": "python3",
      "display_name": "Python 3"
    },
    "language_info": {
      "name": "python"
    }
  },
  "cells": [
    {
      "cell_type": "markdown",
      "metadata": {
        "id": "view-in-github",
        "colab_type": "text"
      },
      "source": [
        "<a href=\"https://colab.research.google.com/github/jaykumar3498/Python/blob/main/Linked_list_assessment.ipynb\" target=\"_parent\"><img src=\"https://colab.research.google.com/assets/colab-badge.svg\" alt=\"Open In Colab\"/></a>"
      ]
    },
    {
      "cell_type": "code",
      "execution_count": 60,
      "metadata": {
        "id": "jPZkqapC6cYt"
      },
      "outputs": [],
      "source": [
        "\"\"\"\n",
        "Design a linked list, where every node contains\n",
        "firstname,lastname, hobby and phone number.\n",
        "Write functions to perform the following:\n",
        "\n",
        "1.Add new element to the list.\n",
        "2.Search and Rename an element from the list\n",
        "3.Perform deduplication-means all duplicates should be removed\n",
        "4.Reverse the list\n",
        "\"\"\"\n",
        "class Node:\n",
        "  \n",
        "    def __init__(self, data):\n",
        "        self.data = data  \n",
        "        self.next = None  \n",
        "  \n",
        "class linked_list:\n",
        "\n",
        "    def __init__(self):\n",
        "        self.head = None\n",
        "\n",
        "    global lis\n",
        "    lis=[]\n",
        "    \n",
        "    def new(self):\n",
        "      x = input(\"Enter first name \")\n",
        "      y = input(\"Enter last name \")\n",
        "      v = input(\"Enter hobby \")\n",
        "      z = input(\"Enter phone number \")\n",
        "      lis.extend([[x,y,v,z]])\n",
        "      return lis\n",
        "\n",
        "    def change(self):\n",
        "      s = input(\"Please enter what you are looking for \")\n",
        "      for i in lis:\n",
        "        for j in range(len(i)):\n",
        "          if i[j]==s:\n",
        "            new = input(\"Please enter the new value \")\n",
        "            i[j] = new\n",
        "            return lis\n",
        "      if s not in lis:\n",
        "        print(\"Could not find value\")\n",
        "\n",
        "    def dedup(self):\n",
        "      global lis\n",
        "      new_lis=[]\n",
        "      for i in lis:\n",
        "        if i not in new_lis:\n",
        "          new_lis.append(i)\n",
        "        else:\n",
        "          pass\n",
        "      lis = new_lis\n",
        "      return lis\n",
        "\n",
        "    def reverse(self):\n",
        "      global lis\n",
        "      g = lis.copy()\n",
        "      new_lis = g[-1::-1]\n",
        "      lis = new_lis\n",
        "      return lis"
      ]
    },
    {
      "cell_type": "code",
      "source": [
        "x.new()"
      ],
      "metadata": {
        "colab": {
          "base_uri": "https://localhost:8080/"
        },
        "id": "GkzVeEXHLYcW",
        "outputId": "46aab8b2-03a2-4990-8adc-85bfd0d3427b"
      },
      "execution_count": 64,
      "outputs": [
        {
          "name": "stdout",
          "output_type": "stream",
          "text": [
            "Enter first name Warren\n",
            "Enter last name Buffet\n",
            "Enter hobby Trading\n",
            "Enter phone number 234522313\n"
          ]
        },
        {
          "output_type": "execute_result",
          "data": {
            "text/plain": [
              "[['Jay ', 'Kumar', 'Python', '1234567890'],\n",
              " ['Peter', 'Griffin', 'TV', '1234455123'],\n",
              " ['Warren', 'Buffet', 'Trading', '234522313']]"
            ]
          },
          "metadata": {},
          "execution_count": 64
        }
      ]
    },
    {
      "cell_type": "code",
      "source": [
        "if __name__ == '__main__':\n",
        "\n",
        "  for i in range(len(lis)-2):\n",
        "    x.head = Node(lis[i])\n",
        "    second = Node(lis[i+1])\n",
        "    third = Node(lis[i+2])\n",
        "  \n",
        "    x.head.next = second  # Link first node with second\n",
        "    second.next = third  # Link second node with the third node\n"
      ],
      "metadata": {
        "id": "KCPIOD8zQ0rn"
      },
      "execution_count": 74,
      "outputs": []
    },
    {
      "cell_type": "code",
      "source": [
        "x.change()"
      ],
      "metadata": {
        "colab": {
          "base_uri": "https://localhost:8080/"
        },
        "id": "B4XB1-NWCAej",
        "outputId": "47f9e4f1-44d6-43fa-a259-0784205e0124"
      },
      "execution_count": 66,
      "outputs": [
        {
          "name": "stdout",
          "output_type": "stream",
          "text": [
            "Please enter what you are looking for TV\n",
            "Please enter the new value News\n"
          ]
        },
        {
          "output_type": "execute_result",
          "data": {
            "text/plain": [
              "[['Jay ', 'Kumar', 'Python', '1234567890'],\n",
              " ['Peter', 'Griffin', 'News', '1234455123'],\n",
              " ['Warren', 'Buffet', 'Trading', '234522313']]"
            ]
          },
          "metadata": {},
          "execution_count": 66
        }
      ]
    },
    {
      "cell_type": "code",
      "source": [
        "x.reverse()"
      ],
      "metadata": {
        "colab": {
          "base_uri": "https://localhost:8080/"
        },
        "id": "ThrqTbonLSVV",
        "outputId": "9339697e-4141-47a1-8da9-f94295913ff3"
      },
      "execution_count": 67,
      "outputs": [
        {
          "output_type": "execute_result",
          "data": {
            "text/plain": [
              "[['Warren', 'Buffet', 'Trading', '234522313'],\n",
              " ['Peter', 'Griffin', 'News', '1234455123'],\n",
              " ['Jay ', 'Kumar', 'Python', '1234567890']]"
            ]
          },
          "metadata": {},
          "execution_count": 67
        }
      ]
    },
    {
      "cell_type": "code",
      "source": [
        "x.new()"
      ],
      "metadata": {
        "colab": {
          "base_uri": "https://localhost:8080/"
        },
        "id": "1o9eCQiKSv1J",
        "outputId": "2c2081bb-95b6-4c2d-e743-827e5d29a669"
      },
      "execution_count": 68,
      "outputs": [
        {
          "name": "stdout",
          "output_type": "stream",
          "text": [
            "Enter first name Peter\n",
            "Enter last name Griffin\n",
            "Enter hobby News\n",
            "Enter phone number 1234455123\n"
          ]
        },
        {
          "output_type": "execute_result",
          "data": {
            "text/plain": [
              "[['Warren', 'Buffet', 'Trading', '234522313'],\n",
              " ['Peter', 'Griffin', 'News', '1234455123'],\n",
              " ['Jay ', 'Kumar', 'Python', '1234567890'],\n",
              " ['Peter', 'Griffin', 'News', '1234455123']]"
            ]
          },
          "metadata": {},
          "execution_count": 68
        }
      ]
    },
    {
      "cell_type": "code",
      "source": [
        "x.dedup()"
      ],
      "metadata": {
        "colab": {
          "base_uri": "https://localhost:8080/"
        },
        "id": "t5ABmcp5Neo-",
        "outputId": "bcd50b99-7c50-41eb-98f7-52ff551546a2"
      },
      "execution_count": 69,
      "outputs": [
        {
          "output_type": "execute_result",
          "data": {
            "text/plain": [
              "[['Warren', 'Buffet', 'Trading', '234522313'],\n",
              " ['Peter', 'Griffin', 'News', '1234455123'],\n",
              " ['Jay ', 'Kumar', 'Python', '1234567890']]"
            ]
          },
          "metadata": {},
          "execution_count": 69
        }
      ]
    }
  ]
}
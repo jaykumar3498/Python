{
  "nbformat": 4,
  "nbformat_minor": 0,
  "metadata": {
    "colab": {
      "provenance": [],
      "authorship_tag": "ABX9TyORuAFIyX3tS7aqnAuEuHgK",
      "include_colab_link": true
    },
    "kernelspec": {
      "name": "python3",
      "display_name": "Python 3"
    },
    "language_info": {
      "name": "python"
    }
  },
  "cells": [
    {
      "cell_type": "markdown",
      "metadata": {
        "id": "view-in-github",
        "colab_type": "text"
      },
      "source": [
        "<a href=\"https://colab.research.google.com/github/jaykumar3498/Python/blob/main/Function_Exercise.ipynb\" target=\"_parent\"><img src=\"https://colab.research.google.com/assets/colab-badge.svg\" alt=\"Open In Colab\"/></a>"
      ]
    },
    {
      "cell_type": "code",
      "source": [
        "#Q1\n",
        "def f1(*a):\n",
        "  lis = list(a)\n",
        "  for i in a:\n",
        "    print(\"The value is\",i)\n",
        "f1(2,3,4,5)"
      ],
      "metadata": {
        "colab": {
          "base_uri": "https://localhost:8080/"
        },
        "id": "wufhhbqmId3i",
        "outputId": "1246c4f3-9cc0-44ff-b2b4-e6127750728f"
      },
      "execution_count": 29,
      "outputs": [
        {
          "output_type": "stream",
          "name": "stdout",
          "text": [
            "The value is 2\n",
            "The value is 3\n",
            "The value is 4\n",
            "The value is 5\n"
          ]
        }
      ]
    },
    {
      "cell_type": "code",
      "source": [
        "#Q2\n",
        "def calculation(a,b):\n",
        "  add = a+b\n",
        "  sub = a-b\n",
        "  return add,sub\n",
        "calculation(5,10)"
      ],
      "metadata": {
        "colab": {
          "base_uri": "https://localhost:8080/"
        },
        "id": "N2-gjb_SMOqr",
        "outputId": "cb83bd9e-fc02-4af7-d71f-d7d888415338"
      },
      "execution_count": 31,
      "outputs": [
        {
          "output_type": "execute_result",
          "data": {
            "text/plain": [
              "(15, -5)"
            ]
          },
          "metadata": {},
          "execution_count": 31
        }
      ]
    },
    {
      "cell_type": "code",
      "source": [
        "#Q3\n",
        "def show_employee(name,salary=9000):\n",
        "  print(\"Employees name is\",name)\n",
        "  print(\"Employees salary is\",salary)\n",
        "\n",
        "show_employee(\"Jay\")"
      ],
      "metadata": {
        "colab": {
          "base_uri": "https://localhost:8080/"
        },
        "id": "R-dV2l5QM5Mm",
        "outputId": "4dba8086-917f-44de-ae83-223421910b7f"
      },
      "execution_count": 26,
      "outputs": [
        {
          "output_type": "stream",
          "name": "stdout",
          "text": [
            "Employees name is Jay\n",
            "Employees salary is 9000\n"
          ]
        }
      ]
    },
    {
      "cell_type": "code",
      "source": [
        "#Q4\n",
        "def func(a,b):\n",
        "  def add(a,b):\n",
        "    return a+b\n",
        "  return 5+add(a,b)\n",
        "func(5,10)"
      ],
      "metadata": {
        "colab": {
          "base_uri": "https://localhost:8080/"
        },
        "id": "nRgW2UHlN_8a",
        "outputId": "5ce7b823-fbf8-4964-80d5-9cfe41bb0627"
      },
      "execution_count": 28,
      "outputs": [
        {
          "output_type": "execute_result",
          "data": {
            "text/plain": [
              "20"
            ]
          },
          "metadata": {},
          "execution_count": 28
        }
      ]
    }
  ]
}
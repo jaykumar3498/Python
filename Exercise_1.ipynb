{
  "nbformat": 4,
  "nbformat_minor": 0,
  "metadata": {
    "colab": {
      "provenance": [],
      "authorship_tag": "ABX9TyNneCGY0uHicU4rSSKXgJ3G",
      "include_colab_link": true
    },
    "kernelspec": {
      "name": "python3",
      "display_name": "Python 3"
    },
    "language_info": {
      "name": "python"
    }
  },
  "cells": [
    {
      "cell_type": "markdown",
      "metadata": {
        "id": "view-in-github",
        "colab_type": "text"
      },
      "source": [
        "<a href=\"https://colab.research.google.com/github/jaykumar3498/Python/blob/main/Exercise_1.ipynb\" target=\"_parent\"><img src=\"https://colab.research.google.com/assets/colab-badge.svg\" alt=\"Open In Colab\"/></a>"
      ]
    },
    {
      "cell_type": "code",
      "execution_count": null,
      "metadata": {
        "colab": {
          "base_uri": "https://localhost:8080/"
        },
        "id": "5XlpomiX955E",
        "outputId": "2499dbad-435a-46bb-8403-7a252cdd63ef"
      },
      "outputs": [
        {
          "output_type": "stream",
          "name": "stdout",
          "text": [
            "Writing Q1.py\n"
          ]
        }
      ],
      "source": [
        "#Q1\n",
        "%%writefile Q1.py\n",
        "a=0\n",
        "for i in range(1,11):\n",
        "    print(i+a,end =\" \")\n",
        "    a=i\n"
      ]
    },
    {
      "cell_type": "code",
      "source": [
        "#Q2\n",
        "%%writefile Q2.py\n",
        "x = input(\"Please enter a string \")\n",
        "for i in range(len(x)):\n",
        "  if i%2==0:\n",
        "    print(x[i],end = \" \")"
      ],
      "metadata": {
        "colab": {
          "base_uri": "https://localhost:8080/"
        },
        "id": "bCOZfdVU-Yvz",
        "outputId": "e76112dd-2cbc-40f2-e06f-8e2e145a4e02"
      },
      "execution_count": 56,
      "outputs": [
        {
          "output_type": "stream",
          "name": "stdout",
          "text": [
            "Writing Q2.py\n"
          ]
        }
      ]
    },
    {
      "cell_type": "code",
      "source": [
        "#Q3\n",
        "%%writefile Q3.py\n",
        "x= [ 1, 2,3,5,10,20,34,12,567,14,555]\n",
        "for i in x:\n",
        "  if i%5==0:\n",
        "    print(i,end = \" \")"
      ],
      "metadata": {
        "colab": {
          "base_uri": "https://localhost:8080/"
        },
        "id": "JsqnfD4S_ix2",
        "outputId": "2593e212-b22b-4bda-9f29-8bcc17dc1acc"
      },
      "execution_count": null,
      "outputs": [
        {
          "output_type": "stream",
          "name": "stdout",
          "text": [
            "Writing Q3.py\n"
          ]
        }
      ]
    },
    {
      "cell_type": "code",
      "source": [
        "#Q4\n",
        "%%writefile Q4.py\n",
        "x = 222\n",
        "y = str(x)\n",
        "if y[::] == y[-1::-1]:\n",
        "  print(\"Yes\")\n",
        "else:\n",
        "  print('No')"
      ],
      "metadata": {
        "colab": {
          "base_uri": "https://localhost:8080/"
        },
        "id": "v5-lTjHLAglX",
        "outputId": "4da38356-a580-436b-aa47-e4fc0b35786d"
      },
      "execution_count": null,
      "outputs": [
        {
          "output_type": "stream",
          "name": "stdout",
          "text": [
            "Writing Q4.py\n"
          ]
        }
      ]
    },
    {
      "cell_type": "code",
      "source": [
        "#Q5\n",
        "%%writefile Q5.py\n",
        "x= [ 1,2,3,4,5]\n",
        "y = [6,7,8,9,10]\n",
        "lis = []\n",
        "for i in x:\n",
        "  if i%2!=0:\n",
        "    lis.append(i)\n",
        "for i in y:\n",
        "  if i%2==0:\n",
        "    lis.append(i)\n",
        "print(lis)"
      ],
      "metadata": {
        "colab": {
          "base_uri": "https://localhost:8080/"
        },
        "id": "CGPiPL5CAv2b",
        "outputId": "e3735f5c-5ed8-4ad2-9958-edd0f6b08a57"
      },
      "execution_count": null,
      "outputs": [
        {
          "output_type": "stream",
          "name": "stdout",
          "text": [
            "Writing Q5.py\n"
          ]
        }
      ]
    },
    {
      "cell_type": "code",
      "source": [
        "#Q6\n",
        "%%writefile Q6.py\n",
        "x= int(input(\"PLease enter a number \"))\n",
        "y = str(x)\n",
        "for i in y[-1::-1]:\n",
        "  print(int(i),end=\" \")"
      ],
      "metadata": {
        "colab": {
          "base_uri": "https://localhost:8080/"
        },
        "id": "2CncxuAOBjQl",
        "outputId": "bebb26af-7368-405c-f073-bbec954c57b5"
      },
      "execution_count": null,
      "outputs": [
        {
          "output_type": "stream",
          "name": "stdout",
          "text": [
            "Writing Q6.py\n"
          ]
        }
      ]
    },
    {
      "cell_type": "code",
      "source": [
        "#Q7\n",
        "%%writefile Q7.py\n",
        "x=10\n",
        "for i in range(1,x+1):\n",
        "  for j in range(1,x+1):\n",
        "    print(i,\"X\",j,\"=\",i*j)\n",
        "  print(\"------------\")"
      ],
      "metadata": {
        "colab": {
          "base_uri": "https://localhost:8080/"
        },
        "id": "oVOgABD9B1v2",
        "outputId": "3b78954e-2bf8-4749-ba43-76804a336494"
      },
      "execution_count": null,
      "outputs": [
        {
          "output_type": "stream",
          "name": "stdout",
          "text": [
            "Writing Q7.py\n"
          ]
        }
      ]
    },
    {
      "cell_type": "code",
      "source": [
        "#Q8\n",
        "%%writefile Q8.py\n",
        "x=int(input(\"Enter a number \"))\n",
        "for i in reversed(range(1,x+1)):\n",
        "  print(i*\"*\")"
      ],
      "metadata": {
        "colab": {
          "base_uri": "https://localhost:8080/"
        },
        "id": "X_aKfLC6CWGF",
        "outputId": "42cb527b-4d30-4ca6-fc34-330346595a4b"
      },
      "execution_count": null,
      "outputs": [
        {
          "output_type": "stream",
          "name": "stdout",
          "text": [
            "Writing Q8.py\n"
          ]
        }
      ]
    }
  ]
}
{
  "nbformat": 4,
  "nbformat_minor": 0,
  "metadata": {
    "colab": {
      "provenance": [],
      "authorship_tag": "ABX9TyPO7H72hiiz/I3SN37gJrHB",
      "include_colab_link": true
    },
    "kernelspec": {
      "name": "python3",
      "display_name": "Python 3"
    },
    "language_info": {
      "name": "python"
    }
  },
  "cells": [
    {
      "cell_type": "markdown",
      "metadata": {
        "id": "view-in-github",
        "colab_type": "text"
      },
      "source": [
        "<a href=\"https://colab.research.google.com/github/jaykumar3498/Python/blob/main/Functions_Exercise2.ipynb\" target=\"_parent\"><img src=\"https://colab.research.google.com/assets/colab-badge.svg\" alt=\"Open In Colab\"/></a>"
      ]
    },
    {
      "cell_type": "code",
      "execution_count": 8,
      "metadata": {
        "colab": {
          "base_uri": "https://localhost:8080/"
        },
        "id": "bOKr1genp8s_",
        "outputId": "ca72263a-21a8-4812-f8b7-c82269537367"
      },
      "outputs": [
        {
          "output_type": "stream",
          "name": "stdout",
          "text": [
            "Number of uppercase: 2\n",
            "Number of lowercase: 3\n"
          ]
        }
      ],
      "source": [
        "#Q1\n",
        "def string_check(a):\n",
        "  lis=[]\n",
        "  lis2=[]\n",
        "  for i in a:\n",
        "    lis.append(i.isupper())\n",
        "    lis2.append(i.islower())\n",
        "  print(\"Number of uppercase:\",lis.count(True))\n",
        "  print(\"Number of lowercase:\",lis2.count(True))\n",
        "string_check(\"HelLo\")"
      ]
    },
    {
      "cell_type": "code",
      "source": [
        "#Q2\n",
        "def pangram(a):\n",
        "  x='abcdefghijklmnopqrstuvwxyz'\n",
        "  lis=[i for i in x]\n",
        "  check=0\n",
        "  for i in a.lower():\n",
        "    if i in lis:\n",
        "      check+=1\n",
        "      lis.remove(i)\n",
        "  if len(lis)==0:\n",
        "    print(\"String is a pangram\")\n",
        "  else:\n",
        "    print(\"String is not a pangram\")\n",
        "pangram(\"The quick brown fox jumps over the lazy dog\")"
      ],
      "metadata": {
        "colab": {
          "base_uri": "https://localhost:8080/"
        },
        "id": "IaOEuW1HrjBe",
        "outputId": "f7474e43-b91c-4792-c9f5-2f3106dbb854"
      },
      "execution_count": 30,
      "outputs": [
        {
          "output_type": "stream",
          "name": "stdout",
          "text": [
            "String is not a pangram\n"
          ]
        }
      ]
    },
    {
      "cell_type": "code",
      "source": [
        "#Q3\n",
        "def prime(x):\n",
        "  check=0\n",
        "  for i in range(2,x+1):\n",
        "      if x%i==0:\n",
        "        check+=1    \n",
        "  if check==1:\n",
        "    print(\"Number is prime\")\n",
        "  else:\n",
        "    print(\"Number is not prime\")\n",
        "prime(53)"
      ],
      "metadata": {
        "colab": {
          "base_uri": "https://localhost:8080/"
        },
        "id": "FlG_fGC4t2gm",
        "outputId": "afb743ae-9890-4260-fc8c-e0e4b7fed079"
      },
      "execution_count": 38,
      "outputs": [
        {
          "output_type": "stream",
          "name": "stdout",
          "text": [
            "Number is prime\n"
          ]
        }
      ]
    },
    {
      "cell_type": "code",
      "source": [
        "#Q4\n",
        "def perfect(x):\n",
        "  lis=[]\n",
        "  for i in range(1,x):\n",
        "    if x%i==0:\n",
        "      lis.append(i)\n",
        "  if sum(lis)==x:\n",
        "    print(\"Number is a perfect number\")\n",
        "  else:\n",
        "    print(\"Number is not a perfect number\")\n",
        "perfect(28)"
      ],
      "metadata": {
        "colab": {
          "base_uri": "https://localhost:8080/"
        },
        "id": "4LgeR6MJtsuP",
        "outputId": "357ebb25-f734-4778-ef46-1639c76ac1e1"
      },
      "execution_count": 49,
      "outputs": [
        {
          "output_type": "stream",
          "name": "stdout",
          "text": [
            "Number is a perfect number\n"
          ]
        }
      ]
    }
  ]
}
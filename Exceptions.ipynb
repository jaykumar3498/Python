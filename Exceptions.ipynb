{
  "nbformat": 4,
  "nbformat_minor": 0,
  "metadata": {
    "colab": {
      "provenance": [],
      "include_colab_link": true
    },
    "kernelspec": {
      "name": "python3",
      "display_name": "Python 3"
    },
    "language_info": {
      "name": "python"
    }
  },
  "cells": [
    {
      "cell_type": "markdown",
      "metadata": {
        "id": "view-in-github",
        "colab_type": "text"
      },
      "source": [
        "<a href=\"https://colab.research.google.com/github/jaykumar3498/Python/blob/main/Exceptions.ipynb\" target=\"_parent\"><img src=\"https://colab.research.google.com/assets/colab-badge.svg\" alt=\"Open In Colab\"/></a>"
      ]
    },
    {
      "cell_type": "code",
      "execution_count": 1,
      "metadata": {
        "colab": {
          "base_uri": "https://localhost:8080/"
        },
        "id": "K_q0QzMRTMsQ",
        "outputId": "ecb3e4ae-a722-48c3-e291-ab5ce50ebcad"
      },
      "outputs": [
        {
          "output_type": "stream",
          "name": "stdout",
          "text": [
            "Enter a number4\n",
            "Enter second number5\n",
            "sum is 9\n"
          ]
        }
      ],
      "source": [
        "x= int(input(\"Enter a number\"))\n",
        "y= int(input(\"Enter second number\"))\n",
        "print(\"sum is\",x+y)"
      ]
    },
    {
      "cell_type": "code",
      "source": [
        "x= int(input(\"Enter a number\"))\n",
        "y= input(\"Enter second number\")\n",
        "print(\"sum is\",x+y)"
      ],
      "metadata": {
        "colab": {
          "base_uri": "https://localhost:8080/",
          "height": 240
        },
        "id": "XAfol8w6Tf9g",
        "outputId": "fa0862d6-8c87-4d4b-90eb-1d1736e34f96"
      },
      "execution_count": 2,
      "outputs": [
        {
          "name": "stdout",
          "output_type": "stream",
          "text": [
            "Enter a number3\n",
            "Enter second number7\n"
          ]
        },
        {
          "output_type": "error",
          "ename": "TypeError",
          "evalue": "ignored",
          "traceback": [
            "\u001b[0;31m---------------------------------------------------------------------------\u001b[0m",
            "\u001b[0;31mTypeError\u001b[0m                                 Traceback (most recent call last)",
            "\u001b[0;32m<ipython-input-2-5309012f785d>\u001b[0m in \u001b[0;36m<module>\u001b[0;34m\u001b[0m\n\u001b[1;32m      1\u001b[0m \u001b[0mx\u001b[0m\u001b[0;34m=\u001b[0m \u001b[0mint\u001b[0m\u001b[0;34m(\u001b[0m\u001b[0minput\u001b[0m\u001b[0;34m(\u001b[0m\u001b[0;34m\"Enter a number\"\u001b[0m\u001b[0;34m)\u001b[0m\u001b[0;34m)\u001b[0m\u001b[0;34m\u001b[0m\u001b[0;34m\u001b[0m\u001b[0m\n\u001b[1;32m      2\u001b[0m \u001b[0my\u001b[0m\u001b[0;34m=\u001b[0m \u001b[0minput\u001b[0m\u001b[0;34m(\u001b[0m\u001b[0;34m\"Enter second number\"\u001b[0m\u001b[0;34m)\u001b[0m\u001b[0;34m\u001b[0m\u001b[0;34m\u001b[0m\u001b[0m\n\u001b[0;32m----> 3\u001b[0;31m \u001b[0mprint\u001b[0m\u001b[0;34m(\u001b[0m\u001b[0;34m\"sum is\"\u001b[0m\u001b[0;34m,\u001b[0m\u001b[0mx\u001b[0m\u001b[0;34m+\u001b[0m\u001b[0my\u001b[0m\u001b[0;34m)\u001b[0m\u001b[0;34m\u001b[0m\u001b[0;34m\u001b[0m\u001b[0m\n\u001b[0m",
            "\u001b[0;31mTypeError\u001b[0m: unsupported operand type(s) for +: 'int' and 'str'"
          ]
        }
      ]
    },
    {
      "cell_type": "code",
      "source": [
        "a= int(input())\n",
        "b=int(input())\n",
        "print(\"Division result\",a/b)"
      ],
      "metadata": {
        "colab": {
          "base_uri": "https://localhost:8080/"
        },
        "id": "176Ydq07TsxR",
        "outputId": "716bd768-6dde-4987-9160-a56f4b019bb7"
      },
      "execution_count": 3,
      "outputs": [
        {
          "output_type": "stream",
          "name": "stdout",
          "text": [
            "4\n",
            "3\n",
            "Division result 1.3333333333333333\n"
          ]
        }
      ]
    },
    {
      "cell_type": "code",
      "source": [
        "#raise\n",
        "#try, except\n",
        "\n",
        "try:\n",
        "  a=5\n",
        "  b='0'\n",
        "  print(a/b)# exception raised-> execute block gets executed\n",
        "except:\n",
        "  print('Some error occured')\n",
        "\n",
        "print('out of try except blocks') \n",
        "\n",
        "\n"
      ],
      "metadata": {
        "colab": {
          "base_uri": "https://localhost:8080/"
        },
        "id": "uSuj7miIUFb8",
        "outputId": "c2bdcb75-e02e-496f-efca-fb3a677af65a"
      },
      "execution_count": 4,
      "outputs": [
        {
          "output_type": "stream",
          "name": "stdout",
          "text": [
            "Some error occured\n",
            "out of try except blocks\n"
          ]
        }
      ]
    },
    {
      "cell_type": "code",
      "source": [
        "try:\n",
        "  a=int(input(\"enter first value\"))\n",
        "  b=int(input(\"enter second value\"))\n",
        "  print(a/b)\n",
        "\n",
        "except:\n",
        "  print('Enter a number')  \n",
        "\n",
        "print('out of try except block')  "
      ],
      "metadata": {
        "colab": {
          "base_uri": "https://localhost:8080/"
        },
        "id": "DvFeySvjWAZR",
        "outputId": "641a6083-45fc-4474-a019-cfb51a680a6b"
      },
      "execution_count": 5,
      "outputs": [
        {
          "output_type": "stream",
          "name": "stdout",
          "text": [
            "enter first value4\n",
            "enter second value5\n",
            "0.8\n",
            "out of try except block\n"
          ]
        }
      ]
    },
    {
      "cell_type": "code",
      "source": [
        "try:\n",
        "  a=int(input(\"enter first value\"))\n",
        "  b=int(input(\"enter second value\"))\n",
        "  print(a/b)\n",
        "\n",
        "except:\n",
        "  print('Enter a number')  \n",
        "\n",
        "print('out of try except block') "
      ],
      "metadata": {
        "colab": {
          "base_uri": "https://localhost:8080/"
        },
        "id": "Lnv2RiJuXZUO",
        "outputId": "039b8a81-f932-4577-b7ba-fdc3451cd8c6"
      },
      "execution_count": null,
      "outputs": [
        {
          "output_type": "stream",
          "name": "stdout",
          "text": [
            "enter first value8\n",
            "enter second value9\n",
            "0.8888888888888888\n",
            "out of try except block\n"
          ]
        }
      ]
    },
    {
      "cell_type": "code",
      "source": [
        "try:\n",
        "  a=int(input(\"enter first value\"))\n",
        "  b=input(\"enter second value\")\n",
        "  print(a/b)\n",
        "  print(\"sum is\",a+b)\n",
        "\n",
        "except ZeroDivisionError:\n",
        "  print('Enter a number other than zero')\n",
        "except ValueError:\n",
        "  print('Enter a number only') \n",
        "except TypeError:\n",
        "  print('Enter a  correct')   \n",
        "\n",
        "print('this is out of try except block')    \n"
      ],
      "metadata": {
        "colab": {
          "base_uri": "https://localhost:8080/"
        },
        "id": "qlJM_4FJXp8N",
        "outputId": "bd6c6dda-a297-4d91-f0c0-5a2f20c62c7e"
      },
      "execution_count": null,
      "outputs": [
        {
          "output_type": "stream",
          "name": "stdout",
          "text": [
            "enter first value8\n",
            "enter second valuep\n",
            "Enter a  correct\n",
            "this is out of try except block\n"
          ]
        }
      ]
    },
    {
      "cell_type": "code",
      "source": [
        "#else, finally\n",
        "\n",
        "try:\n",
        "  a=int(input(\"enter first value\"))\n",
        "  b=int(input(\"enter second value\"))\n",
        "  c=(a/b)\n",
        "  \n",
        "\n",
        "except ZeroDivisionError:\n",
        "  print('Enter a number other than zero')\n",
        "except ValueError:\n",
        "  print('Enter a number only') \n",
        "except TypeError:\n",
        "  print('Enter a  correct')\n",
        "\n",
        "\n",
        "else:  \n",
        "  print('else block')\n",
        "  print('Division=',c)"
      ],
      "metadata": {
        "colab": {
          "base_uri": "https://localhost:8080/"
        },
        "id": "GBFViVB_YgWQ",
        "outputId": "b1823998-585a-4d8f-8eb0-9237e68c0097"
      },
      "execution_count": null,
      "outputs": [
        {
          "output_type": "stream",
          "name": "stdout",
          "text": [
            "enter first value5\n",
            "enter second value5\n",
            "else block\n",
            "Division= 1.0\n"
          ]
        }
      ]
    },
    {
      "cell_type": "code",
      "source": [
        "#else, finally\n",
        "\n",
        "try:\n",
        "  a=int(input(\"enter first value\"))\n",
        "  b=int(input(\"enter second value\"))\n",
        "  c=(a/b)\n",
        "  \n",
        "\n",
        "except ZeroDivisionError:\n",
        "  print('Enter a number other than zero')\n",
        "except ValueError:\n",
        "  print('Enter a number only') \n",
        "except TypeError:\n",
        "  print('Enter a  correct')\n",
        "\n",
        "\n",
        "else:  \n",
        "  print('else block')\n",
        "  print('Division=',c)"
      ],
      "metadata": {
        "colab": {
          "base_uri": "https://localhost:8080/"
        },
        "id": "OuFnXAf4bpQi",
        "outputId": "c3b0aebd-d170-4cde-8a65-dd79ce248529"
      },
      "execution_count": null,
      "outputs": [
        {
          "output_type": "stream",
          "name": "stdout",
          "text": [
            "enter first value5\n",
            "enter second value0\n",
            "Enter a number other than zero\n"
          ]
        }
      ]
    },
    {
      "cell_type": "code",
      "source": [
        "\n",
        "try:\n",
        "  a=int(input(\"enter first value\"))\n",
        "  b=int(input(\"enter second value\"))\n",
        "  c=(a/b)\n",
        "  \n",
        "\n",
        "except ZeroDivisionError:\n",
        "  print('Enter a number other than zero')\n",
        "except ValueError:\n",
        "  print('Enter a number only') \n",
        "except TypeError:\n",
        "  print('Enter a  correct')\n",
        "\n",
        "\n",
        "#else:  \n",
        "  print('else block')\n",
        "  print('Division=',c)\n",
        "\n",
        "\n",
        "finally:\n",
        "  print(\"finally block\")\n",
        "print('out of my try, except, else,finally block')  "
      ],
      "metadata": {
        "colab": {
          "base_uri": "https://localhost:8080/"
        },
        "id": "5sYEIwwEb83b",
        "outputId": "3903b157-c78a-4640-e94a-141f57ca1d10"
      },
      "execution_count": null,
      "outputs": [
        {
          "output_type": "stream",
          "name": "stdout",
          "text": [
            "enter first value3\n",
            "enter second value4\n",
            "finally block\n",
            "out of my try, except, else,finally block\n"
          ]
        }
      ]
    },
    {
      "cell_type": "code",
      "source": [
        "\n",
        "try:\n",
        "  a=int(input(\"enter first value\"))\n",
        "  b=input(\"enter second value\")\n",
        "  c=(a/b)\n",
        "  \n",
        "\n",
        "except ZeroDivisionError:\n",
        "  print('Enter a number other than zero')\n",
        "except ValueError:\n",
        "  print('Enter a number only') \n",
        "except TypeError:\n",
        "  print('Enter a  correct')\n",
        "\n",
        "\n",
        "else:  \n",
        "  print('else block')\n",
        "  print('Division=',c)\n",
        "\n",
        "\n",
        "finally:\n",
        "  print(\"finally block\")\n",
        "print('out of my try, except, else,finally block')  "
      ],
      "metadata": {
        "colab": {
          "base_uri": "https://localhost:8080/"
        },
        "id": "VJuRB9ZidCUU",
        "outputId": "66eed23a-6570-40f8-bf82-f39f83a6798f"
      },
      "execution_count": null,
      "outputs": [
        {
          "output_type": "stream",
          "name": "stdout",
          "text": [
            "enter first value7\n",
            "enter second value9\n",
            "Enter a  correct\n",
            "finally block\n",
            "out of my try, except, else,finally block\n"
          ]
        }
      ]
    },
    {
      "cell_type": "code",
      "source": [
        "from ast import Raise\n",
        "x=int(input())\n",
        "y=input()\n",
        "try:\n",
        "  if y==0: \n",
        "     raise ZeroDivisionError()  \n",
        "  z=x/y\n",
        "  print(\"Divison =\",z)\n",
        "\n",
        "except ZeroDivisionError:\n",
        "  print(\"you cannot divide by zero\")\n",
        "\n",
        "\n",
        "\n",
        "finally:\n",
        "  print(\"finally block\")\n",
        "\n",
        "\n",
        "\n",
        "\n",
        "\n",
        "\n",
        "\n",
        "\n"
      ],
      "metadata": {
        "colab": {
          "base_uri": "https://localhost:8080/",
          "height": 287
        },
        "id": "heombx1wdZ9W",
        "outputId": "05fe3c17-2d8d-4596-e6f9-d169315dcc4a"
      },
      "execution_count": null,
      "outputs": [
        {
          "output_type": "stream",
          "name": "stdout",
          "text": [
            "8\n",
            "0\n",
            "finally block\n"
          ]
        },
        {
          "output_type": "error",
          "ename": "TypeError",
          "evalue": "ignored",
          "traceback": [
            "\u001b[0;31m---------------------------------------------------------------------------\u001b[0m",
            "\u001b[0;31mTypeError\u001b[0m                                 Traceback (most recent call last)",
            "\u001b[0;32m<ipython-input-37-439f2ff1c22d>\u001b[0m in \u001b[0;36m<module>\u001b[0;34m\u001b[0m\n\u001b[1;32m      5\u001b[0m   \u001b[0;32mif\u001b[0m \u001b[0my\u001b[0m\u001b[0;34m==\u001b[0m\u001b[0;36m0\u001b[0m\u001b[0;34m:\u001b[0m\u001b[0;34m\u001b[0m\u001b[0;34m\u001b[0m\u001b[0m\n\u001b[1;32m      6\u001b[0m      \u001b[0;32mraise\u001b[0m \u001b[0mZeroDivisionError\u001b[0m\u001b[0;34m(\u001b[0m\u001b[0;34m)\u001b[0m\u001b[0;34m\u001b[0m\u001b[0;34m\u001b[0m\u001b[0m\n\u001b[0;32m----> 7\u001b[0;31m   \u001b[0mz\u001b[0m\u001b[0;34m=\u001b[0m\u001b[0mx\u001b[0m\u001b[0;34m/\u001b[0m\u001b[0my\u001b[0m\u001b[0;34m\u001b[0m\u001b[0;34m\u001b[0m\u001b[0m\n\u001b[0m\u001b[1;32m      8\u001b[0m   \u001b[0mprint\u001b[0m\u001b[0;34m(\u001b[0m\u001b[0;34m\"Divison =\"\u001b[0m\u001b[0;34m,\u001b[0m\u001b[0mz\u001b[0m\u001b[0;34m)\u001b[0m\u001b[0;34m\u001b[0m\u001b[0;34m\u001b[0m\u001b[0m\n\u001b[1;32m      9\u001b[0m \u001b[0;34m\u001b[0m\u001b[0m\n",
            "\u001b[0;31mTypeError\u001b[0m: unsupported operand type(s) for /: 'int' and 'str'"
          ]
        }
      ]
    },
    {
      "cell_type": "code",
      "source": [
        "#Nesting of try block\n",
        "\n",
        "\n",
        "try:\n",
        "  print(\"line1\")\n",
        "  print('line2')\n",
        "  try:\n",
        "    print(\"line3\")\n",
        "    print('line4')\n",
        "  except ZeroDivisionError:\n",
        "    print(\"except\")\n",
        "  finally:\n",
        "    print('finally')\n",
        "  print('lines')\n",
        "except TypeError:\n",
        "  print(\"exception2\")\n",
        "finally:\n",
        "  print(\"finally2\")    \n",
        "\n"
      ],
      "metadata": {
        "colab": {
          "base_uri": "https://localhost:8080/"
        },
        "id": "covLCGLTf6L1",
        "outputId": "82fb9ccd-c626-404e-e9f0-2ee8e741b363"
      },
      "execution_count": null,
      "outputs": [
        {
          "output_type": "stream",
          "name": "stdout",
          "text": [
            "line1\n",
            "line2\n",
            "line3\n",
            "line4\n",
            "finally\n",
            "lines\n",
            "finally2\n"
          ]
        }
      ]
    },
    {
      "cell_type": "code",
      "source": [
        "\"\"\"\n",
        "1.try, except, \n",
        "2. try and except should be used along\n",
        "3. We can have no of except blocks\n",
        "4.type of exception raised should be matched with the except exceptionclass Name\n",
        "5. If there is no exception raised in try block, except block is skipped\n",
        "6. if the exception raised is not handled by using except., then DEM works, the program ends\n",
        "7.finally block always runs\n",
        "8. if try block has no exception raised, then else will get executed and viceversa\n",
        "\"\"\""
      ],
      "metadata": {
        "id": "inJ97eaPksit"
      },
      "execution_count": null,
      "outputs": []
    },
    {
      "cell_type": "code",
      "source": [
        "\"\"\"\n",
        "1.create a list, try to access any element with the help of index.\n",
        "Now, try to specify the index which is not in range, check for the exception you got.\n",
        "handle that exception using exception handling\n",
        "\"\"\"\n",
        "lis = [1,2,3,4,5,6]\n",
        "lis[7]"
      ],
      "metadata": {
        "id": "plfeN__3uvPH",
        "outputId": "d9205593-f67e-4ee4-ed46-51ee0f2c3e42",
        "colab": {
          "base_uri": "https://localhost:8080/",
          "height": 204
        }
      },
      "execution_count": 6,
      "outputs": [
        {
          "output_type": "error",
          "ename": "IndexError",
          "evalue": "ignored",
          "traceback": [
            "\u001b[0;31m---------------------------------------------------------------------------\u001b[0m",
            "\u001b[0;31mIndexError\u001b[0m                                Traceback (most recent call last)",
            "\u001b[0;32m<ipython-input-6-3131b3e1411d>\u001b[0m in \u001b[0;36m<module>\u001b[0;34m\u001b[0m\n\u001b[1;32m      3\u001b[0m \u001b[0;31m#handle that exception using exception handling\u001b[0m\u001b[0;34m\u001b[0m\u001b[0;34m\u001b[0m\u001b[0;34m\u001b[0m\u001b[0m\n\u001b[1;32m      4\u001b[0m \u001b[0mlis\u001b[0m \u001b[0;34m=\u001b[0m \u001b[0;34m[\u001b[0m\u001b[0;36m1\u001b[0m\u001b[0;34m,\u001b[0m\u001b[0;36m2\u001b[0m\u001b[0;34m,\u001b[0m\u001b[0;36m3\u001b[0m\u001b[0;34m,\u001b[0m\u001b[0;36m4\u001b[0m\u001b[0;34m,\u001b[0m\u001b[0;36m5\u001b[0m\u001b[0;34m,\u001b[0m\u001b[0;36m6\u001b[0m\u001b[0;34m]\u001b[0m\u001b[0;34m\u001b[0m\u001b[0;34m\u001b[0m\u001b[0m\n\u001b[0;32m----> 5\u001b[0;31m \u001b[0mlis\u001b[0m\u001b[0;34m[\u001b[0m\u001b[0;36m7\u001b[0m\u001b[0;34m]\u001b[0m\u001b[0;34m\u001b[0m\u001b[0;34m\u001b[0m\u001b[0m\n\u001b[0m",
            "\u001b[0;31mIndexError\u001b[0m: list index out of range"
          ]
        }
      ]
    },
    {
      "cell_type": "code",
      "source": [
        "try:\n",
        "  x = (int(input(\"Please enter a number \")))\n",
        "  print(lis[x])\n",
        "except IndexError:\n",
        "  print(\"Please enter a valid index\")\n"
      ],
      "metadata": {
        "id": "hYzlsFmNu2A0",
        "outputId": "bea993fe-07eb-4a5f-ac2a-22ce8fe208ee",
        "colab": {
          "base_uri": "https://localhost:8080/"
        }
      },
      "execution_count": 8,
      "outputs": [
        {
          "output_type": "stream",
          "name": "stdout",
          "text": [
            "Please enter a number 4\n",
            "5\n"
          ]
        }
      ]
    },
    {
      "cell_type": "code",
      "source": [
        "\"\"\"\n",
        "2. let's say you have the following code written:\n",
        "names = Input('Enter your name:')\n",
        "\n",
        "check for the error/exception that you got, \n",
        "handle the exception using exception handling\n",
        "\"\"\"\n",
        "\n",
        "names = Input('Enter your name:')"
      ],
      "metadata": {
        "id": "LxTI95eXvIkE",
        "outputId": "ef1c341e-8417-47f5-9808-debafc4feea5",
        "colab": {
          "base_uri": "https://localhost:8080/",
          "height": 204
        }
      },
      "execution_count": 9,
      "outputs": [
        {
          "output_type": "error",
          "ename": "NameError",
          "evalue": "ignored",
          "traceback": [
            "\u001b[0;31m---------------------------------------------------------------------------\u001b[0m",
            "\u001b[0;31mNameError\u001b[0m                                 Traceback (most recent call last)",
            "\u001b[0;32m<ipython-input-9-267de31a2758>\u001b[0m in \u001b[0;36m<module>\u001b[0;34m\u001b[0m\n\u001b[1;32m      7\u001b[0m \"\"\"\n\u001b[1;32m      8\u001b[0m \u001b[0;34m\u001b[0m\u001b[0m\n\u001b[0;32m----> 9\u001b[0;31m \u001b[0mnames\u001b[0m \u001b[0;34m=\u001b[0m \u001b[0mInput\u001b[0m\u001b[0;34m(\u001b[0m\u001b[0;34m'Enter your name:'\u001b[0m\u001b[0;34m)\u001b[0m\u001b[0;34m\u001b[0m\u001b[0;34m\u001b[0m\u001b[0m\n\u001b[0m",
            "\u001b[0;31mNameError\u001b[0m: name 'Input' is not defined"
          ]
        }
      ]
    },
    {
      "cell_type": "code",
      "source": [
        "try:\n",
        "  names = Input('Enter your name')\n",
        "  print(names)\n",
        "except NameError:\n",
        "  print(\"Please check the code syntax\")\n"
      ],
      "metadata": {
        "id": "IZ8qVtCFvvxY",
        "outputId": "e833f25d-5089-4290-fb1f-2b482bd51253",
        "colab": {
          "base_uri": "https://localhost:8080/"
        }
      },
      "execution_count": 10,
      "outputs": [
        {
          "output_type": "stream",
          "name": "stdout",
          "text": [
            "Please check the code syntax\n"
          ]
        }
      ]
    }
  ]
}